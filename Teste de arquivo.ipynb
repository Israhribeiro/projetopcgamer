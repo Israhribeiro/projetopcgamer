{
 "cells": [
  {
   "cell_type": "code",
   "execution_count": 24,
   "metadata": {},
   "outputs": [
    {
     "ename": "AttributeError",
     "evalue": "module 'selenium.webdriver.support.expected_conditions' has no attribute 'ElementToBeClickable'",
     "output_type": "error",
     "traceback": [
      "\u001b[1;31m---------------------------------------------------------------------------\u001b[0m",
      "\u001b[1;31mAttributeError\u001b[0m                            Traceback (most recent call last)",
      "\u001b[1;32m<ipython-input-24-4e11da01acde>\u001b[0m in \u001b[0;36m<module>\u001b[1;34m\u001b[0m\n\u001b[0;32m     38\u001b[0m \u001b[0mtime\u001b[0m\u001b[1;33m.\u001b[0m\u001b[0msleep\u001b[0m\u001b[1;33m(\u001b[0m\u001b[1;36m5\u001b[0m\u001b[1;33m)\u001b[0m\u001b[1;33m\u001b[0m\u001b[1;33m\u001b[0m\u001b[0m\n\u001b[0;32m     39\u001b[0m \u001b[1;32mfor\u001b[0m \u001b[0mv\u001b[0m \u001b[1;32min\u001b[0m \u001b[0mrange\u001b[0m\u001b[1;33m(\u001b[0m\u001b[0mlen\u001b[0m\u001b[1;33m(\u001b[0m\u001b[0mlistaPichau\u001b[0m\u001b[1;33m)\u001b[0m\u001b[1;33m)\u001b[0m\u001b[1;33m:\u001b[0m\u001b[1;33m\u001b[0m\u001b[1;33m\u001b[0m\u001b[0m\n\u001b[1;32m---> 40\u001b[1;33m     \u001b[0mfiltroLink\u001b[0m\u001b[1;33m(\u001b[0m\u001b[0mlistaPichau\u001b[0m\u001b[1;33m[\u001b[0m\u001b[0mv\u001b[0m\u001b[1;33m]\u001b[0m\u001b[1;33m)\u001b[0m\u001b[1;33m\u001b[0m\u001b[1;33m\u001b[0m\u001b[0m\n\u001b[0m\u001b[0;32m     41\u001b[0m     \u001b[0mtime\u001b[0m\u001b[1;33m.\u001b[0m\u001b[0msleep\u001b[0m\u001b[1;33m(\u001b[0m\u001b[1;36m5\u001b[0m\u001b[1;33m)\u001b[0m\u001b[1;33m\u001b[0m\u001b[1;33m\u001b[0m\u001b[0m\n\u001b[0;32m     42\u001b[0m \u001b[1;32mfor\u001b[0m \u001b[0mi\u001b[0m \u001b[1;32min\u001b[0m \u001b[0mlistaDeLinks\u001b[0m\u001b[1;33m:\u001b[0m\u001b[1;33m\u001b[0m\u001b[1;33m\u001b[0m\u001b[0m\n",
      "\u001b[1;32m<ipython-input-24-4e11da01acde>\u001b[0m in \u001b[0;36mfiltroLink\u001b[1;34m(xpath)\u001b[0m\n\u001b[0;32m     21\u001b[0m     \u001b[0mtime\u001b[0m\u001b[1;33m.\u001b[0m\u001b[0msleep\u001b[0m\u001b[1;33m(\u001b[0m\u001b[1;36m3\u001b[0m\u001b[1;33m)\u001b[0m\u001b[1;33m\u001b[0m\u001b[1;33m\u001b[0m\u001b[0m\n\u001b[0;32m     22\u001b[0m \u001b[1;32mdef\u001b[0m \u001b[0mfiltroLink\u001b[0m\u001b[1;33m(\u001b[0m\u001b[0mxpath\u001b[0m\u001b[1;33m)\u001b[0m\u001b[1;33m:\u001b[0m\u001b[1;33m\u001b[0m\u001b[1;33m\u001b[0m\u001b[0m\n\u001b[1;32m---> 23\u001b[1;33m     \u001b[0mespera\u001b[0m\u001b[1;33m.\u001b[0m\u001b[0muntil\u001b[0m\u001b[1;33m(\u001b[0m\u001b[0mEC\u001b[0m\u001b[1;33m.\u001b[0m\u001b[0mElementToBeClickable\u001b[0m\u001b[1;33m(\u001b[0m\u001b[0mBy\u001b[0m\u001b[1;33m.\u001b[0m\u001b[0mxpath\u001b[0m\u001b[1;33m(\u001b[0m\u001b[0mxpath\u001b[0m\u001b[1;33m)\u001b[0m\u001b[1;33m)\u001b[0m\u001b[1;33m)\u001b[0m\u001b[1;33m\u001b[0m\u001b[1;33m\u001b[0m\u001b[0m\n\u001b[0m\u001b[0;32m     24\u001b[0m     \u001b[0mwbD\u001b[0m\u001b[1;33m.\u001b[0m\u001b[0mfind_elements_by_xpath\u001b[0m\u001b[1;33m(\u001b[0m\u001b[0mxpath\u001b[0m\u001b[1;33m)\u001b[0m\u001b[1;33m[\u001b[0m\u001b[1;36m0\u001b[0m\u001b[1;33m]\u001b[0m\u001b[1;33m.\u001b[0m\u001b[0mclick\u001b[0m\u001b[1;33m(\u001b[0m\u001b[1;33m)\u001b[0m\u001b[1;33m\u001b[0m\u001b[1;33m\u001b[0m\u001b[0m\n\u001b[0;32m     25\u001b[0m     \u001b[0mtime\u001b[0m\u001b[1;33m.\u001b[0m\u001b[0msleep\u001b[0m\u001b[1;33m(\u001b[0m\u001b[1;36m5\u001b[0m\u001b[1;33m)\u001b[0m\u001b[1;33m\u001b[0m\u001b[1;33m\u001b[0m\u001b[0m\n",
      "\u001b[1;31mAttributeError\u001b[0m: module 'selenium.webdriver.support.expected_conditions' has no attribute 'ElementToBeClickable'"
     ]
    }
   ],
   "source": [
    "import selenium\n",
    "from selenium import webdriver as wb\n",
    "from selenium.webdriver.support.ui import WebDriverWait\n",
    "from selenium.webdriver.support import expected_conditions as EC\n",
    "from selenium.webdriver.common.by import By\n",
    "from selenium.webdriver.support.ui import Select\n",
    "import pandas as pd\n",
    "import time\n",
    "from tqdm import tqdm\n",
    "\n",
    "def adiciona(lista,produtos):\n",
    "    lista.append(produtos)\n",
    "def pegaPreco():\n",
    "    precoProd = wbD.find_elements_by_xpath('//*[@id=\"maincontent\"]/div[2]/div/div[1]/div[2]/div[2]/span[2]/span')[0].text\n",
    "    return precoProd\n",
    "def pegaProduto():\n",
    "    produtos = wbD.find_elements_by_xpath('//*[@id=\"amasty-shopby-product-list\"]/div[2]/ol/li[1]/div/div/strong/a')[0].get_attribute('href')\n",
    "    return produtos\n",
    "def novoLink(link):\n",
    "    wbD.get(link)\n",
    "    time.sleep(3)\n",
    "def filtroLink(xpath):\n",
    "    espera.until(EC.ElementToBeClickable(By.xpath(xpath)))\n",
    "    wbD.find_elements_by_xpath(xpath)[0].click()\n",
    "    time.sleep(5)\n",
    "    adiciona(listaDeLinks,pegaProduto())\n",
    "    espera.until(EC.ElementToBeClickable(By.xpath(xpath)))\n",
    "    wbD.find_elements_by_xpath(xpath)[0].click()\n",
    "wbD = wb.Chrome('chromedriver.exe')\n",
    "wbD.get('https://www.pichau.com.br/hardware/placa-de-video')\n",
    "espera = WebDriverWait(wbD,20)\n",
    "listaDeLinks = []\n",
    "preco = []\n",
    "listaPichau = ['//*[@id=\"narrow-by-list\"]/dd[1]/form/ol/li[5]/a','//*[@id=\"narrow-by-list\"]/dd[1]/form/ol/li[11]/a','//*[@id=\"narrow-by-list\"]/dd[1]/form/ol/li[12]/a','//*[@id=\"narrow-by-list\"]/dd[1]/form/ol/li[13]/a','//*[@id=\"narrow-by-list\"]/dd[1]/form/ol/li[14]/a','//*[@id=\"narrow-by-list\"]/dd[1]/form/ol/li[41]/a','//*[@id=\"narrow-by-list\"]/dd[1]/form/ol/li[45]/a','//*[@id=\"narrow-by-list\"]/dd[1]/form/ol/li[51]/a','//*[@id=\"narrow-by-list\"]/dd[1]/form/ol/li[53]/a']\n",
    "time.sleep(3)\n",
    "produtoInfoLista = wbD.find_elements_by_xpath('//div[@class=\"product details product-item-details\"]')[0]\n",
    "wbD.find_elements_by_xpath('//div/select[@id=\"sorter\"]/option')[2].click()\n",
    "time.sleep(5)\n",
    "for v in range(len(listaPichau)):\n",
    "    filtroLink(listaPichau[v])\n",
    "    time.sleep(5)\n",
    "for i in listaDeLinks:\n",
    "    novoLink(i)\n",
    "    adiciona(preco,pegaPreco())\n",
    "print(listaDeLinks,'\\n',preco)"
   ]
  },
  {
   "cell_type": "code",
   "execution_count": null,
   "metadata": {},
   "outputs": [],
   "source": []
  }
 ],
 "metadata": {
  "kernelspec": {
   "display_name": "Python 3",
   "language": "python",
   "name": "python3"
  },
  "language_info": {
   "codemirror_mode": {
    "name": "ipython",
    "version": 3
   },
   "file_extension": ".py",
   "mimetype": "text/x-python",
   "name": "python",
   "nbconvert_exporter": "python",
   "pygments_lexer": "ipython3",
   "version": "3.8.5"
  }
 },
 "nbformat": 4,
 "nbformat_minor": 4
}
