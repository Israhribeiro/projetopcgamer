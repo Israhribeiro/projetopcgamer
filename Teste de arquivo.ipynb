{
 "cells": [
  {
   "cell_type": "code",
   "execution_count": 25,
   "metadata": {},
   "outputs": [
    {
     "name": "stdout",
     "output_type": "stream",
     "text": [
      "Ta funcionando ['https://www.pichau.com.br/hardware/placa-de-video/placa-de-video-afox-radeon-r5-220-2gb-64-bit-afr5220-2048d3l9-v2'] à vista R$299,90\n"
     ]
    }
   ],
   "source": [
    "import selenium\n",
    "from selenium import webdriver as wb\n",
    "from selenium.webdriver.support.ui import Select\n",
    "import pandas as pd\n",
    "import time\n",
    "from tqdm import tqdm\n",
    "\n",
    "def adiciona(lista):\n",
    "    lista.append(produtos)\n",
    "def pegaPreco(link):\n",
    "    wbD.get(produtos)\n",
    "    preco = wbD.find_elements_by_xpath('//*[@id=\"maincontent\"]/div[2]/div/div[1]/div[2]/div[2]/span[2]/span')[0].text\n",
    "    return preco\n",
    "def pegaProduto(detalhes):\n",
    "    produtos = detalhes.find_elements_by_xpath('//strong/a[@class=\"product-item-link\"]')[0].get_attribute('href')\n",
    "wbD = wb.Chrome('chromedriver.exe')\n",
    "wbD.get('https://www.pichau.com.br/hardware/placa-de-video')\n",
    "wbD.execute_script(\"window.open('/gtx 1060', '_blank')\")\n",
    "\n",
    "listaDeLinks = []\n",
    "time.sleep(3)\n",
    "wbD.find_elements_by_xpath('//div/select[@id=\"sorter\"]/option')[2].click()\n",
    "time.sleep(5)\n",
    "produtoInfoLista = wbD.find_elements_by_xpath('//div[@class=\"product details product-item-details\"]')[0]\n",
    "pegaProduto(produtoInfoLista)\n",
    "adiciona(listaDeLinks)\n",
    "preco = pegaPreco(produtos)\n",
    "print(\"Ta funcionando\",listaDeLinks,preco)"
   ]
  },
  {
   "cell_type": "code",
   "execution_count": null,
   "metadata": {},
   "outputs": [],
   "source": []
  }
 ],
 "metadata": {
  "kernelspec": {
   "display_name": "Python 3",
   "language": "python",
   "name": "python3"
  },
  "language_info": {
   "codemirror_mode": {
    "name": "ipython",
    "version": 3
   },
   "file_extension": ".py",
   "mimetype": "text/x-python",
   "name": "python",
   "nbconvert_exporter": "python",
   "pygments_lexer": "ipython3",
   "version": "3.8.5"
  }
 },
 "nbformat": 4,
 "nbformat_minor": 4
}
