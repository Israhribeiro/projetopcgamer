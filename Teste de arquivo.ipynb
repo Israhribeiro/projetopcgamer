{
 "cells": [
  {
   "cell_type": "code",
   "execution_count": 31,
   "metadata": {},
   "outputs": [
    {
     "name": "stdout",
     "output_type": "stream",
     "text": [
      "['https://www.pichau.com.br/hardware/placa-de-video/placa-de-video-gigabyte-geforce-gt-710-2gb-gddr5-64-bit-gv-n710d5-2gil'] \n",
      " ['à vista R$369,90']\n"
     ]
    }
   ],
   "source": [
    "import selenium\n",
    "from selenium import webdriver as wb\n",
    "from selenium.webdriver.support.ui import Select\n",
    "from selenium.webdriver.common.action_chains import ActionChains\n",
    "from selenium.webdriver.common.keys import Keys\n",
    "import pandas as pd\n",
    "import time\n",
    "from tqdm import tqdm\n",
    "\n",
    "def adiciona(lista,produtos):\n",
    "    lista.append(produtos)\n",
    "def pegaPreco(link):\n",
    "    precoProd = wbD.find_elements_by_xpath('//*[@id=\"maincontent\"]/div[2]/div/div[1]/div[2]/div[2]/span[2]/span')[0].text\n",
    "    return precoProd\n",
    "def pegaProduto(detalhes):\n",
    "    produtos = detalhes.find_elements_by_xpath('//strong/a[@class=\"product-item-link\"]')[0].get_attribute('href')\n",
    "    return produtos\n",
    "def novoLink(link):\n",
    "    wbD.get(link)\n",
    "    time.sleep(3)\n",
    "wbD = wb.Chrome('chromedriver.exe')\n",
    "wbD.get('https://www.pichau.com.br/hardware/placa-de-video')\n",
    "listaDeLinks = []\n",
    "preco = []\n",
    "time.sleep(3)\n",
    "wbD.find_elements_by_xpath('//div/select[@id=\"sorter\"]/option')[2].click()\n",
    "time.sleep(5)\n",
    "produtoInfoLista = wbD.find_elements_by_xpath('//div[@class=\"product details product-item-details\"]')[0]\n",
    "adiciona(listaDeLinks,pegaProduto(produtoInfoLista))\n",
    "novoLink(listaDeLinks[0])\n",
    "preco.append(pegaPreco(listaDeLinks[0]))\n",
    "print(listaDeLinks,'\\n',preco)"
   ]
  },
  {
   "cell_type": "code",
   "execution_count": null,
   "metadata": {},
   "outputs": [],
   "source": []
  }
 ],
 "metadata": {
  "kernelspec": {
   "display_name": "Python 3",
   "language": "python",
   "name": "python3"
  },
  "language_info": {
   "codemirror_mode": {
    "name": "ipython",
    "version": 3
   },
   "file_extension": ".py",
   "mimetype": "text/x-python",
   "name": "python",
   "nbconvert_exporter": "python",
   "pygments_lexer": "ipython3",
   "version": "3.8.5"
  }
 },
 "nbformat": 4,
 "nbformat_minor": 4
}
