{
 "cells": [
  {
   "cell_type": "code",
   "execution_count": 35,
   "metadata": {},
   "outputs": [
    {
     "ename": "AttributeError",
     "evalue": "'list' object has no attribute 'text'",
     "output_type": "error",
     "traceback": [
      "\u001b[1;31m---------------------------------------------------------------------------\u001b[0m",
      "\u001b[1;31mAttributeError\u001b[0m                            Traceback (most recent call last)",
      "\u001b[1;32m<ipython-input-35-b2743a3b3a88>\u001b[0m in \u001b[0;36m<module>\u001b[1;34m\u001b[0m\n\u001b[0;32m     29\u001b[0m \u001b[0madiciona\u001b[0m\u001b[1;33m(\u001b[0m\u001b[0mlistaDeLinks\u001b[0m\u001b[1;33m,\u001b[0m\u001b[0mpegaProduto\u001b[0m\u001b[1;33m(\u001b[0m\u001b[0mprodutoInfoLista\u001b[0m\u001b[1;33m)\u001b[0m\u001b[1;33m)\u001b[0m\u001b[1;33m\u001b[0m\u001b[1;33m\u001b[0m\u001b[0m\n\u001b[0;32m     30\u001b[0m \u001b[0mnovaGuia\u001b[0m\u001b[1;33m(\u001b[0m\u001b[0mlistaDeLinks\u001b[0m\u001b[1;33m[\u001b[0m\u001b[1;36m0\u001b[0m\u001b[1;33m]\u001b[0m\u001b[1;33m)\u001b[0m\u001b[1;33m\u001b[0m\u001b[1;33m\u001b[0m\u001b[0m\n\u001b[1;32m---> 31\u001b[1;33m \u001b[0mpreco\u001b[0m \u001b[1;33m=\u001b[0m \u001b[0mpreco\u001b[0m\u001b[1;33m.\u001b[0m\u001b[0mappend\u001b[0m\u001b[1;33m(\u001b[0m\u001b[0mpegaPreco\u001b[0m\u001b[1;33m(\u001b[0m\u001b[1;33m)\u001b[0m\u001b[1;33m)\u001b[0m\u001b[1;33m\u001b[0m\u001b[1;33m\u001b[0m\u001b[0m\n\u001b[0m\u001b[0;32m     32\u001b[0m \u001b[0mprint\u001b[0m\u001b[1;33m(\u001b[0m\u001b[1;34m\"Ta funcionando\"\u001b[0m\u001b[1;33m,\u001b[0m\u001b[0mlistaDeLinks\u001b[0m\u001b[1;33m,\u001b[0m\u001b[0mpreco\u001b[0m\u001b[1;33m)\u001b[0m\u001b[1;33m\u001b[0m\u001b[1;33m\u001b[0m\u001b[0m\n",
      "\u001b[1;32m<ipython-input-35-b2743a3b3a88>\u001b[0m in \u001b[0;36mpegaPreco\u001b[1;34m()\u001b[0m\n\u001b[0;32m     11\u001b[0m     \u001b[0mlista\u001b[0m\u001b[1;33m.\u001b[0m\u001b[0mappend\u001b[0m\u001b[1;33m(\u001b[0m\u001b[0mprodutos\u001b[0m\u001b[1;33m)\u001b[0m\u001b[1;33m\u001b[0m\u001b[1;33m\u001b[0m\u001b[0m\n\u001b[0;32m     12\u001b[0m \u001b[1;32mdef\u001b[0m \u001b[0mpegaPreco\u001b[0m\u001b[1;33m(\u001b[0m\u001b[1;33m)\u001b[0m\u001b[1;33m:\u001b[0m\u001b[1;33m\u001b[0m\u001b[1;33m\u001b[0m\u001b[0m\n\u001b[1;32m---> 13\u001b[1;33m     \u001b[0mpreco\u001b[0m \u001b[1;33m=\u001b[0m \u001b[0mwbD\u001b[0m\u001b[1;33m.\u001b[0m\u001b[0mfind_elements_by_xpath\u001b[0m\u001b[1;33m(\u001b[0m\u001b[1;34m'//*[@id=\"maincontent\"]/div[2]/div/div[1]/div[2]/div[2]/span[2]/span'\u001b[0m\u001b[1;33m)\u001b[0m\u001b[1;33m.\u001b[0m\u001b[0mtext\u001b[0m\u001b[1;33m\u001b[0m\u001b[1;33m\u001b[0m\u001b[0m\n\u001b[0m\u001b[0;32m     14\u001b[0m     \u001b[1;32mreturn\u001b[0m \u001b[0mpreco\u001b[0m\u001b[1;33m\u001b[0m\u001b[1;33m\u001b[0m\u001b[0m\n\u001b[0;32m     15\u001b[0m \u001b[1;32mdef\u001b[0m \u001b[0mpegaProduto\u001b[0m\u001b[1;33m(\u001b[0m\u001b[0mdetalhes\u001b[0m\u001b[1;33m)\u001b[0m\u001b[1;33m:\u001b[0m\u001b[1;33m\u001b[0m\u001b[1;33m\u001b[0m\u001b[0m\n",
      "\u001b[1;31mAttributeError\u001b[0m: 'list' object has no attribute 'text'"
     ]
    }
   ],
   "source": [
    "import selenium\n",
    "from selenium import webdriver as wb\n",
    "from selenium.webdriver.support.ui import Select\n",
    "from selenium.webdriver.common.action_chains import ActionChains\n",
    "from selenium.webdriver.common.keys import Keys\n",
    "import pandas as pd\n",
    "import time\n",
    "from tqdm import tqdm\n",
    "\n",
    "def adiciona(lista,produtos):\n",
    "    lista.append(produtos)\n",
    "def pegaPreco():\n",
    "    preco = wbD.find_elements_by_xpath('//*[@id=\"maincontent\"]/div[2]/div/div[1]/div[2]/div[2]/span[2]/span').text\n",
    "    return preco\n",
    "def pegaProduto(detalhes):\n",
    "    produtos = detalhes.find_elements_by_xpath('//strong/a[@class=\"product-item-link\"]')[0].get_attribute('href')\n",
    "    return produtos\n",
    "def novaGuia(link):\n",
    "    a = \"window.open('\"+link+\"','_blank')\"\n",
    "    wbD.execute_script(a)\n",
    "wbD = wb.Chrome('chromedriver.exe')\n",
    "wbD.get('https://www.pichau.com.br/hardware/placa-de-video')\n",
    "listaDeLinks = []\n",
    "preco = []\n",
    "time.sleep(3)\n",
    "wbD.find_elements_by_xpath('//div/select[@id=\"sorter\"]/option')[2].click()\n",
    "time.sleep(5)\n",
    "produtoInfoLista = wbD.find_elements_by_xpath('//div[@class=\"product details product-item-details\"]')[0]\n",
    "adiciona(listaDeLinks,pegaProduto(produtoInfoLista))\n",
    "novaGuia(listaDeLinks[0])\n",
    "preco = preco.append(pegaPreco())\n",
    "print(\"Ta funcionando\",listaDeLinks,preco)"
   ]
  },
  {
   "cell_type": "code",
   "execution_count": null,
   "metadata": {},
   "outputs": [],
   "source": []
  }
 ],
 "metadata": {
  "kernelspec": {
   "display_name": "Python 3",
   "language": "python",
   "name": "python3"
  },
  "language_info": {
   "codemirror_mode": {
    "name": "ipython",
    "version": 3
   },
   "file_extension": ".py",
   "mimetype": "text/x-python",
   "name": "python",
   "nbconvert_exporter": "python",
   "pygments_lexer": "ipython3",
   "version": "3.8.5"
  }
 },
 "nbformat": 4,
 "nbformat_minor": 4
}
