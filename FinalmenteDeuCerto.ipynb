{
 "cells": [
  {
   "cell_type": "code",
   "execution_count": 7,
   "metadata": {},
   "outputs": [
    {
     "name": "stdout",
     "output_type": "stream",
     "text": [
      "['https://www.pichau.com.br/hardware/placa-de-video/placa-de-video-asus-geforce-gt-1030-2gb-gddr5-64-bit-gt1030-sl-2g-brk', 'https://www.pichau.com.br/hardware/placa-de-video/placa-de-video-asus-geforce-gtx-1650-4gb-oc-phoenix-128-bit-ph-gtx1650-o4g', 'https://www.pichau.com.br/hardware/placa-de-video/placa-de-video-msi-geforce-gtx-1650-super-4gb-gaming-x-128-bit-912-v385-003', 'https://www.pichau.com.br/catalog/product/view/id/17315/s/placa-de-video-asus-geforce-gtx-1660-6gb-gddr5-tuf-gaming-192-bit-tuf-gtx1660-6g-gaming/category/19/', 'https://www.pichau.com.br/hardware/placa-de-video/placa-de-video-galax-geforce-gtx-1660-super-6gb-x-version-192-bit-60srl7ds05xv', 'https://www.pichau.com.br/hardware/placa-de-video/placa-de-video-afox-radeon-rx-550-2gb-gddr5-128-bit-afrx550-2048d5h4', 'https://www.pichau.com.br/hardware/placa-de-video/placa-de-video-powercolor-radeon-rx-570-4gb-gddr5-red-dragon-256-bit-axrx-570-4gbd5-3dhdv2-oc', 'https://www.pichau.com.br/hardware/placa-de-video/placa-de-video-powercolor-radeon-rx-5500-xt-4gb-oc-128-bit-axrx-5500xt-4gbd6-dh-oc', 'https://www.pichau.com.br/hardware/placa-de-video/placa-de-video-xfx-radeon-rx-5600-xt-6gb-tchicc-ii-pro-192-bit-rx-56xt6dfd6'] \n",
      " preço ['Indisponível', 'Indisponível', 'Indisponível', 'Indisponível', 'Indisponível', 'à vista R$489,98', 'Indisponível', 'Indisponível', 'Indisponível'] \n",
      " filtros ['https://www.pichau.com.br/hardware/placa-de-video?product_list_order=price&rgpu=560', 'https://www.pichau.com.br/hardware/placa-de-video?product_list_order=price&rgpu=717', 'https://www.pichau.com.br/hardware/placa-de-video?product_list_order=price&rgpu=766', 'https://www.pichau.com.br/hardware/placa-de-video?product_list_order=price&rgpu=712', 'https://www.pichau.com.br/hardware/placa-de-video?product_list_order=price&rgpu=767', 'https://www.pichau.com.br/hardware/placa-de-video?product_list_order=price&rgpu=576', 'https://www.pichau.com.br/hardware/placa-de-video?product_list_order=price&rgpu=556', 'https://www.pichau.com.br/hardware/placa-de-video?product_list_order=price&rgpu=842', 'https://www.pichau.com.br/hardware/placa-de-video?product_list_order=price&rgpu=841']\n"
     ]
    }
   ],
   "source": [
    "import selenium\n",
    "from selenium import webdriver as wb\n",
    "from selenium.webdriver.support.ui import WebDriverWait\n",
    "from selenium.webdriver.common.action_chains import ActionChains\n",
    "from selenium.webdriver.support import expected_conditions as ec\n",
    "from selenium.webdriver.common.by import By\n",
    "from selenium.webdriver.support.ui import Select\n",
    "import pandas as pd\n",
    "import time\n",
    "from tqdm import tqdm\n",
    "\n",
    "def adiciona(lista,produtos):\n",
    "    lista.append(produtos)\n",
    "def pegaPreco():\n",
    "    try:\n",
    "        wbD.find_element_by_css_selector(\"#maincontent > div.columns > div > div.product-info-main > div.product-info-price > div.product-info-stock-sku > div.stock.available\")\n",
    "        precoProd = wbD.find_elements_by_xpath('//*[@id=\"maincontent\"]/div[2]/div/div[1]/div[2]/div[2]/span[2]/span')[0].text\n",
    "    except:\n",
    "        precoProd = \"Indisponível\"\n",
    "    return precoProd\n",
    "def pegaProduto(selector):\n",
    "    produtos = wbD.find_element_by_css_selector(selector).get_attribute('href')\n",
    "    return produtos\n",
    "def novoLink(link):\n",
    "    wbD.get(link)\n",
    "    time.sleep(3)\n",
    "wbD = wb.Chrome('chromedriver.exe')\n",
    "wbD.get('https://www.pichau.com.br/hardware/placa-de-video')\n",
    "listaDeFiltro = []\n",
    "listaDeLinks = []\n",
    "preco = []\n",
    "listaPichau = ['#narrow-by-list > dd:nth-child(2) > form > ol > li:nth-child(5) > a','#narrow-by-list > dd:nth-child(2) > form > ol > li:nth-child(11) > a','#narrow-by-list > dd:nth-child(2) > form > ol > li:nth-child(12) > a','#narrow-by-list > dd:nth-child(2) > form > ol > li:nth-child(13) > a','#narrow-by-list > dd:nth-child(2) > form > ol > li:nth-child(14) > a','#narrow-by-list > dd:nth-child(2) > form > ol > li:nth-child(41) > a','#narrow-by-list > dd:nth-child(2) > form > ol > li:nth-child(45) > a','#narrow-by-list > dd:nth-child(2) > form > ol > li:nth-child(51) > a','#narrow-by-list > dd:nth-child(2) > form > ol > li:nth-child(53) > a']\n",
    "time.sleep(3)\n",
    "produtoInfoLista = wbD.find_elements_by_xpath('//div[@class=\"product details product-item-details\"]')[0]\n",
    "wbD.find_elements_by_xpath('//div/select[@id=\"sorter\"]/option')[2].click()\n",
    "time.sleep(5)\n",
    "for i in (listaPichau):\n",
    "    adiciona(listaDeFiltro,pegaProduto(i))\n",
    "for i in (listaDeFiltro):\n",
    "    novoLink(i)\n",
    "    adiciona(listaDeLinks,pegaProduto('#amasty-shopby-product-list > div.products.wrapper.grid.products-grid > ol > li:nth-child(1) > div > div > strong > a'))\n",
    "for i in listaDeLinks:\n",
    "    novoLink(i)\n",
    "    adiciona(preco,pegaPreco())\n",
    "print(listaDeLinks,'\\n preço',preco,'\\n filtros',listaDeFiltro)"
   ]
  },
  {
   "cell_type": "code",
   "execution_count": null,
   "metadata": {},
   "outputs": [],
   "source": []
  },
  {
   "cell_type": "code",
   "execution_count": null,
   "metadata": {},
   "outputs": [],
   "source": []
  }
 ],
 "metadata": {
  "kernelspec": {
   "display_name": "Python 3",
   "language": "python",
   "name": "python3"
  },
  "language_info": {
   "codemirror_mode": {
    "name": "ipython",
    "version": 3
   },
   "file_extension": ".py",
   "mimetype": "text/x-python",
   "name": "python",
   "nbconvert_exporter": "python",
   "pygments_lexer": "ipython3",
   "version": "3.8.5"
  }
 },
 "nbformat": 4,
 "nbformat_minor": 4
}
